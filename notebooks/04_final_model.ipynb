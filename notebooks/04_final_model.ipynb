{
  "cells": [
    {
      "cell_type": "code",
      "execution_count": null,
      "id": "c11be829",
      "metadata": {},
      "outputs": [],
      "source": [
        "# Importieren der benötigten Bibliotheken\n",
        "\n",
        "# Datenmanipulation\n",
        "import pandas as pd\n",
        "import pickle\n",
        "import os\n",
        "\n",
        "# Visualisierung\n",
        "import matplotlib.pyplot as plt\n",
        "import seaborn as sns\n",
        "\n",
        "# Machine Learning\n",
        "from sklearn.ensemble import RandomForestRegressor\n",
        "from sklearn.model_selection import GridSearchCV\n",
        "from sklearn.metrics import root_mean_squared_error, mean_absolute_error, r2_score, confusion_matrix"
      ]
    },
    {
      "cell_type": "markdown",
      "id": "9fa25625",
      "metadata": {},
      "source": [
        "# Finales Modell: Hyperparameter Tuning\n"
      ]
    },
    {
      "cell_type": "code",
      "execution_count": null,
      "id": "555d93b4",
      "metadata": {},
      "outputs": [],
      "source": [
        "# Einlesen der Trainings- und Testdaten\n",
        "destination_path = \"../data/processed\"\n",
        "\n",
        "features_train = pd.read_csv(f\"{destination_path}/features_train.csv\")\n",
        "features_test = pd.read_csv(f\"{destination_path}/features_test.csv\")\n",
        "target_train = pd.read_csv(f\"{destination_path}/target_train.csv\")\n",
        "target_test = pd.read_csv(f\"{destination_path}/target_test.csv\")\n",
        "\n",
        "# Zielvariablen in einem Dictionary organisieren\n",
        "targets = {\n",
        "    \"compressor\": {\n",
        "        \"train\": target_train.iloc[:, 0],\n",
        "        \"test\": target_test.iloc[:, 0]\n",
        "    },\n",
        "    \"turbine\": {\n",
        "        \"train\": target_train.iloc[:, 1],\n",
        "        \"test\": target_test.iloc[:, 1]\n",
        "    }\n",
        "}"
      ]
    },
    {
      "cell_type": "markdown",
      "id": "f3afe910",
      "metadata": {},
      "source": [
        "**Feature Selection**\n"
      ]
    },
    {
      "cell_type": "code",
      "execution_count": null,
      "id": "cc57c439",
      "metadata": {},
      "outputs": [],
      "source": [
        "# Einlesen der Top 10 Features importances basierend auf den Ergebnissen aus 03_baseline_model.ipynb\n",
        "result_path = \"../data/results\"\n",
        "top_features_comp = pd.read_csv(f\"{result_path}/top_10_feature_importances_compressor.csv\")\n",
        "top_features_turb = pd.read_csv(f\"{result_path}/top_10_feature_importances_turbine.csv\")\n",
        "\n",
        "# Auswahl der Top N Features Importances \n",
        "N_TOP_FEATURES = 3\n",
        "\n",
        "important_features = {\n",
        "    \"compressor\": top_features_comp.head(N_TOP_FEATURES)[\"Feature\"].tolist(),\n",
        "    \"turbine\": top_features_turb.head(N_TOP_FEATURES)[\"Feature\"].tolist()\n",
        "} \n",
        "\n",
        "print(f\"Top {N_TOP_FEATURES} Features:\")\n",
        "print(f\"Kompressor: {important_features['compressor']}\")\n",
        "print(f\"Turbinen: {important_features['turbine']}\")"
      ]
    },
    {
      "cell_type": "markdown",
      "id": "4f3a79a7",
      "metadata": {},
      "source": [
        "**Hyperparameter-Optimierung mit GridSearchCV**\n"
      ]
    },
    {
      "cell_type": "code",
      "execution_count": null,
      "id": "d69ce35c",
      "metadata": {},
      "outputs": [],
      "source": [
        "# Parameter-Grid für den Random Forest\n",
        "param_grid = {\n",
        "    \"n_estimators\": [100, 500, 1000],\n",
        "    \"max_depth\": [None, 20, 30],\n",
        "    \"min_samples_split\": [2, 5],\n",
        "    \"min_samples_leaf\": [1, 2]\n",
        "}\n",
        "\n",
        "best_models = {}\n",
        "\n",
        "# Schleife für Kompressor und Turbine\n",
        "for target_name, target_data in targets.items():\n",
        "    print(f\"GridSearchCV für: {target_name}\")\n",
        "\n",
        "    # Feature Selection für Kompressor und Turbine\n",
        "    current_features = important_features[target_name]\n",
        "    features_train_select = features_train[current_features]\n",
        "\n",
        "    # Initialisierere die Grid Search\n",
        "    rf = RandomForestRegressor(random_state=42)\n",
        "    grid_search = GridSearchCV(estimator=rf, param_grid=param_grid, cv=5, n_jobs=-1, scoring='r2')\n",
        "\n",
        "    # Trainiere mit den ausgewählten Features\n",
        "    grid_search.fit(features_train_select, target_data[\"train\"]) # Führe die Grid Search durch\n",
        "    best_models[target_name] = grid_search.best_estimator_ \n",
        "    \n",
        "    print(f\"Beste Parameter: {grid_search.best_params_}\")\n",
        "    print(f\"Bester R2 (CV): {grid_search.best_score_:.4f}\\n\")"
      ]
    },
    {
      "cell_type": "markdown",
      "id": "cd9dfb82",
      "metadata": {},
      "source": [
        "**Finale Evaluation und Speicherung**\n"
      ]
    },
    {
      "cell_type": "code",
      "execution_count": null,
      "id": "a022fc5a",
      "metadata": {},
      "outputs": [],
      "source": [
        "# Evaluieren und Speichern der optimierten Modelle\n",
        "fig, axes = plt.subplots(1, 2, figsize=(14, 6))\n",
        "\n",
        "predictions_dict = {}\n",
        "os.makedirs(\"../data/models\", exist_ok=True) # Erstelle \"models\" Verzeichnis\n",
        "\n",
        "# Schleife für Kompressor und Turbine\n",
        "for i, (target_name, best_model) in enumerate(best_models.items()):\n",
        "    # Vorhersagen auf dem Test-Set\n",
        "    current_features = important_features[target_name]\n",
        "    features_test_select = features_test[current_features]\n",
        "    \n",
        "    predictions = best_model.predict(features_test_select)\n",
        "    predictions_dict[target_name] = predictions\n",
        "    r2 = r2_score(targets[target_name]['test'], predictions)\n",
        "    mae = mean_absolute_error(targets[target_name]['test'], predictions)\n",
        "    rmse = root_mean_squared_error(targets[target_name]['test'], predictions)\n",
        "    \n",
        "    print(f\"Finale Performance {target_name} auf Test-Set\")\n",
        "    print(f\"R2 Score: {r2:.4f}\")\n",
        "    print(f\"MAE: {mae:.4f}\")\n",
        "    print(f\"RMSE: {rmse:.4f}\\n\")\n",
        "    \n",
        "    # Speichern des Modells\n",
        "    with open(f\"../data/models/final_model_{target_name}.pkl\", \"wb\") as file:\n",
        "        pickle.dump(best_model, file)\n",
        "\n",
        "    # Visualisierung der Vorhersagen\n",
        "    ax = axes[i]\n",
        "    sns.scatterplot(\n",
        "        x=targets[target_name][\"test\"],\n",
        "        y=predictions,\n",
        "        alpha=0.5,\n",
        "        ax=ax,\n",
        "        color=\"#009292\"\n",
        "    )\n",
        "\n",
        "    ax.plot(\n",
        "        [targets[target_name][\"test\"].min(), targets[target_name][\"test\"].max()],\n",
        "        [targets[target_name][\"test\"].min(), targets[target_name][\"test\"].max()],\n",
        "        linestyle='--',\n",
        "        color=\"#074650\",\n",
        "        label='Ideal'\n",
        "    )\n",
        "    ax.set_title(f'Finales Modell: {target_name.capitalize()}')\n",
        "    ax.set_xlabel('Tatsächliche Werte')\n",
        "    ax.set_ylabel('Vorhergesagte Werte')\n",
        "    ax.legend()\n",
        "\n",
        "plt.tight_layout()\n",
        "plt.show()"
      ]
    },
    {
      "cell_type": "markdown",
      "id": "f7789872",
      "metadata": {},
      "source": [
        "**Anwendungsbezogene Evaluation: 2 Zerfallzustands Klassifikation**\n"
      ]
    },
    {
      "cell_type": "code",
      "execution_count": null,
      "id": "e1eb355b",
      "metadata": {},
      "outputs": [],
      "source": [
        "# Schwellenwerte für Zerfallzustand\n",
        "thresholds = {\n",
        "    'compressor': {'good': 0.98},\n",
        "    'turbine': {'good': 0.99}\n",
        "}\n",
        "\n",
        "# Umwandlung in zwei Zustände\n",
        "def get_binary_state(value, component_type):\n",
        "    th = thresholds[component_type]\n",
        "    return 'Gut' if value >= th['good'] else 'Handlungsbedarf'\n",
        "\n",
        "# Wende die Funktion auf wahre und vorhergesagte Werte an\n",
        "true_states = {\n",
        "    'compressor': [get_binary_state(v, 'compressor') for v in targets['compressor']['test']],\n",
        "    'turbine': [get_binary_state(v, 'turbine') for v in targets['turbine']['test']]\n",
        "}\n",
        "\n",
        "predicted_states = {\n",
        "    'compressor': [get_binary_state(v, 'compressor') for v in predictions_dict['compressor']],\n",
        "    'turbine': [get_binary_state(v, 'turbine') for v in predictions_dict['turbine']]\n",
        "}"
      ]
    },
    {
      "cell_type": "markdown",
      "id": "0ee37db3",
      "metadata": {},
      "source": [
        "**Visualisierung 1: Farbcodierter Scatterplot**\n"
      ]
    },
    {
      "cell_type": "code",
      "execution_count": null,
      "id": "ddfd039d",
      "metadata": {},
      "outputs": [],
      "source": [
        "fig, axes = plt.subplots(1, 2, figsize=(16, 7))\n",
        "state_colors = {\"Gut\": \"#009292\", \"Handlungsbedarf\": \"#074650\"}\n",
        "\n",
        "for i, comp in enumerate(['compressor', 'turbine']):\n",
        "    ax = axes[i]\n",
        "    th = thresholds[comp]\n",
        "    \n",
        "    sns.scatterplot(x=targets[comp]['test'], y=predictions_dict[comp], hue=true_states[comp], \n",
        "                    palette=state_colors, alpha=0.6, ax=ax, hue_order=['Gut', 'Handlungsbedarf'])\n",
        "    \n",
        "    ax.plot([0.94, 1.01], [0.94, 1.01], 'k--', label='Ideal')\n",
        "    \n",
        "    ax.axvline(x=th['good'], color='#6DB6FF', linestyle='--', label=f'Grenze Gut ({th[\"good\"]})')\n",
        "    ax.axhline(y=th['good'], color='#6DB6FF', linestyle='--')\n",
        "    \n",
        "    ax.set_title(f'Zustandsvorhersage: {comp.capitalize()}')\n",
        "    ax.set_xlabel('Wahrer Koeffizient')\n",
        "    ax.set_ylabel('Vorhergesagter Koeffizient')\n",
        "    ax.legend()\n",
        "    ax.set_xlim(min(targets[comp]['test'].min(), min(predictions_dict[comp])) - 0.005, 1.005)\n",
        "    ax.set_ylim(min(targets[comp]['test'].min(), min(predictions_dict[comp])) - 0.005, 1.005)\n",
        "\n",
        "plt.tight_layout()\n",
        "plt.show()"
      ]
    },
    {
      "cell_type": "markdown",
      "id": "5e5549d5",
      "metadata": {},
      "source": [
        "**Visualisierung 2: Konfusionsmatrix**\n"
      ]
    },
    {
      "cell_type": "code",
      "execution_count": null,
      "id": "6cb09a24",
      "metadata": {},
      "outputs": [],
      "source": [
        "fig, axes = plt.subplots(1, 2, figsize=(14, 6))\n",
        "labels = ['Gut', 'Handlungsbedarf']\n",
        "\n",
        "for i, comp in enumerate(['compressor', 'turbine']):\n",
        "    ax = axes[i]\n",
        "    cm = confusion_matrix(true_states[comp], predicted_states[comp], labels=labels)\n",
        "    \n",
        "    sns.heatmap(cm, annot=True, fmt='d', cmap='Blues', xticklabels=labels, yticklabels=labels, ax=ax)\n",
        "    \n",
        "    ax.set_title(f'Konfusionsmatrix: {comp.capitalize()}')\n",
        "    ax.set_xlabel('Vorhergesagter Zustand')\n",
        "    ax.set_ylabel('Wahrer Zustand')\n",
        "\n",
        "plt.tight_layout()\n",
        "plt.show()"
      ]
    }
  ],
  "metadata": {
    "kernelspec": {
      "display_name": ".venv",
      "language": "python",
      "name": "python3"
    },
    "language_info": {
      "codemirror_mode": {
        "name": "ipython",
        "version": 3
      },
      "file_extension": ".py",
      "mimetype": "text/x-python",
      "name": "python",
      "nbconvert_exporter": "python",
      "pygments_lexer": "ipython3",
      "version": "3.12.11"
    }
  },
  "nbformat": 4,
  "nbformat_minor": 5
}
