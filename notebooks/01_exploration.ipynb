{
 "cells": [
  {
   "cell_type": "code",
   "execution_count": null,
   "id": "81f4d3c3",
   "metadata": {},
   "outputs": [],
   "source": [
    "# Importieren der benötigten Bibliotheken\n",
    "\n",
    "# Datenmanipulation\n",
    "import pandas as pd\n",
    "import re\n",
    "\n",
    "# Visualisierung\n",
    "import seaborn as sns\n",
    "import matplotlib.pyplot as plt\n",
    "\n",
    "# Eigene Module\n",
    "from dpp.data import load_from_kaggle"
   ]
  },
  {
   "cell_type": "markdown",
   "id": "9fa25625",
   "metadata": {},
   "source": [
    "# Preparation\n"
   ]
  },
  {
   "cell_type": "markdown",
   "id": "a1c45798",
   "metadata": {},
   "source": [
    "**Gather Data**\n"
   ]
  },
  {
   "cell_type": "code",
   "execution_count": null,
   "id": "014523c2",
   "metadata": {},
   "outputs": [],
   "source": [
    "# Daten von Kaggle herunterladen\n",
    "dataset_link = \"thedevastator/improving-naval-vessel-condition-through-machine\" # replace with your dataset link from Kaggle \n",
    "destination = \"../data/raw\"\n",
    "dataset_name = dataset_link.split(\"/\")[-1]\n",
    "\n",
    "files = load_from_kaggle(\n",
    "    dataset_link=dataset_link, \n",
    "    destination=destination,\n",
    "    )"
   ]
  },
  {
   "cell_type": "code",
   "execution_count": null,
   "id": "01645498",
   "metadata": {},
   "outputs": [],
   "source": [
    "# Anzeigen der heruntergeladenen Daten\n",
    "files"
   ]
  },
  {
   "cell_type": "code",
   "execution_count": null,
   "id": "92bb5c04",
   "metadata": {},
   "outputs": [],
   "source": [
    "# Einlesen der Daten\n",
    "df = pd.read_csv(\"/\".join([destination, dataset_name, files[0]]), index_col=0)\n",
    "df.head()"
   ]
  },
  {
   "cell_type": "markdown",
   "id": "bb01ddcf",
   "metadata": {},
   "source": [
    "# Explorative Datenanalayse (EDA)\n"
   ]
  },
  {
   "cell_type": "markdown",
   "id": "29f66187",
   "metadata": {},
   "source": [
    "**Understand Data**\n"
   ]
  },
  {
   "cell_type": "code",
   "execution_count": null,
   "id": "46ca62a1",
   "metadata": {},
   "outputs": [],
   "source": [
    "# Erste Übersicht über die Daten\n",
    "display(\n",
    "    \"Shape\",\n",
    "    df.shape,\n",
    "    \"Description\",\n",
    "    df.describe().round(2),\n",
    "    \"Duplicates\",\n",
    "    df.duplicated().sum(),\n",
    ")\n",
    "\n",
    "# Übersicht über die Spalten\n",
    "pd.DataFrame(\n",
    "    {\n",
    "        \"Data Types\": df.dtypes,\n",
    "        \"Missing Values\": df.isnull().sum(),\n",
    "        \"Unique Values\": df.nunique(),\n",
    "        \"Sample Values\": [df[col].sample(3).tolist() for col in df.columns]\n",
    "    })"
   ]
  },
  {
   "cell_type": "markdown",
   "id": "8f8128d0",
   "metadata": {},
   "source": [
    "**Rename Columns**\n"
   ]
  },
  {
   "cell_type": "code",
   "execution_count": null,
   "id": "7540a8f6",
   "metadata": {},
   "outputs": [],
   "source": [
    "# Bereinigen der Spaltennamen\n",
    "def clean_col_names(df):\n",
    "    cols = df.columns\n",
    "    new_cols = []\n",
    "    for col in cols:\n",
    "        new_col = col\n",
    "        new_col = re.sub(r\"\\s+\", \"_\", new_col) # Unterstriche ersetzen Leerzeichen\n",
    "        new_col = new_col.strip(\"_\") # Führende/nachfolgende Unterstriche entfernen\n",
    "        new_cols.append(new_col)\n",
    "    df.columns = new_cols\n",
    "    return df\n",
    "\n",
    "df = clean_col_names(df)\n",
    "\n",
    "df.head()"
   ]
  },
  {
   "cell_type": "code",
   "execution_count": null,
   "id": "83e0598b",
   "metadata": {},
   "outputs": [],
   "source": [
    "# Entfernen irrelevanter Spalten gleicher Wert in allen Zeilen\n",
    "cols_to_drop = [col for col in df.columns if df[col].nunique() <= 1]\n",
    "print(f\"Folgende Spalten werden entfernt: {cols_to_drop}\")\n",
    "df = df.drop(columns=cols_to_drop)"
   ]
  },
  {
   "cell_type": "markdown",
   "id": "92f634eb",
   "metadata": {},
   "source": [
    "**Outliers Detection**\n"
   ]
  },
  {
   "cell_type": "code",
   "execution_count": null,
   "id": "99a4e6bd",
   "metadata": {},
   "outputs": [],
   "source": [
    "# Verteilung und Boxplots \n",
    "for col in df.columns:\n",
    "    fig, axes = plt.subplots(1, 2, figsize=(16, 4))\n",
    "    sns.histplot(x=df[col], kde=True, ax=axes[0], color=\"#009292\")\n",
    "    sns.boxplot(x=df[col], ax=axes[1], color=\"#009292\")\n",
    "    axes[0].set_title(f\"Histogram of {col}\")\n",
    "    axes[1].set_title(f\"Boxplot of {col}\")\n",
    "    plt.tight_layout()"
   ]
  },
  {
   "cell_type": "markdown",
   "id": "78cd8254",
   "metadata": {},
   "source": [
    "**Check Correlations**\n"
   ]
  },
  {
   "cell_type": "code",
   "execution_count": null,
   "id": "fda36560",
   "metadata": {},
   "outputs": [],
   "source": [
    "# Korrelationen visualisieren\n",
    "plt.figure(figsize=(16, 12))\n",
    "sns.heatmap(df.corr(numeric_only=True), annot=True, fmt=\".2f\", cmap=\"coolwarm\", center=0)\n",
    "plt.title(\"Correlation Matrix\")"
   ]
  },
  {
   "cell_type": "code",
   "execution_count": null,
   "id": "9652542e",
   "metadata": {},
   "outputs": [],
   "source": [
    "# Visualisierung der bivariaten Beziehungen\n",
    "sns.pairplot(df, plot_kws={\"color\": \"#009292\"}, diag_kws={\"color\": \"#074650\"})"
   ]
  },
  {
   "cell_type": "code",
   "execution_count": null,
   "id": "22311684",
   "metadata": {},
   "outputs": [],
   "source": [
    "# Speichern der bereinigten Daten\n",
    "destination_path = \"../data/processed\"\n",
    "df.to_csv(f\"{destination_path}/cleaned_data.csv\", index=False)"
   ]
  },
  {
   "cell_type": "markdown",
   "id": "04e1cf42",
   "metadata": {},
   "source": [
    "**Zustandsverteilung**"
   ]
  },
  {
   "cell_type": "code",
   "execution_count": null,
   "id": "431eb541",
   "metadata": {},
   "outputs": [],
   "source": [
    "# Schwellenwerte für Zerfallzustand\n",
    "thresholds = {\n",
    "    \"compressor\": {\"good\": 0.98},\n",
    "    \"turbine\": {\"good\": 0.99}\n",
    "}\n",
    "\n",
    "# Definition der Zustände und zugehörigen Farben\n",
    "state_order = [\"Gut\", \"Handlungsbedarf\"]\n",
    "state_colors = {\"Gut\": \"#009292\", \"Handlungsbedarf\": \"#074650\"}\n",
    "\n",
    "# Funktion zur Umwandlung in zwei Zustände\n",
    "def get_binary_state(value, component_type):\n",
    "    th = thresholds[component_type]\n",
    "    return \"Gut\" if value >= th[\"good\"] else \"Handlungsbedarf\"\n",
    "\n",
    "# Zu visualisierende Komponenten\n",
    "components_to_plot = [\n",
    "    {\"col\": \"GT_Compressor_decay_state_coefficient\", \"type\": \"compressor\", \"title\": \"Zustandsverteilung Kompressor\"},\n",
    "    {\"col\": \"GT_Turbine_decay_state_coefficient\", \"type\": \"turbine\", \"title\": \"Zustandsverteilung Turbine\"}\n",
    "]\n",
    "\n",
    "# Erstellen der Visualisierung\n",
    "fig, axes = plt.subplots(1, 2, figsize=(14, 7))\n",
    "\n",
    "for i, component in enumerate(components_to_plot):\n",
    "    # Temporäre Spalte mit den Zuständen erstellen\n",
    "    state_series = df[component[\"col\"]].apply(lambda x: get_binary_state(x, component[\"type\"]))\n",
    "    \n",
    "    # Daten für das Diagramm vorbereiten\n",
    "    counts = state_series.value_counts().reindex(state_order).fillna(0)\n",
    "    colors = [state_colors[state] for state in counts.index]\n",
    "    \n",
    "    # Kuchendiagramm zeichnen\n",
    "    axes[i].pie(\n",
    "        counts,\n",
    "        labels=counts.index,\n",
    "        autopct=\"%1.1f%%\",\n",
    "        startangle=90,\n",
    "        colors=colors,\n",
    "        textprops={\"fontsize\": 12}\n",
    "    )\n",
    "    axes[i].set_title(component[\"title\"], fontsize=14)\n",
    "\n",
    "plt.tight_layout()\n",
    "plt.show()"
   ]
  }
 ],
 "metadata": {
  "kernelspec": {
   "display_name": ".venv",
   "language": "python",
   "name": "python3"
  },
  "language_info": {
   "codemirror_mode": {
    "name": "ipython",
    "version": 3
   },
   "file_extension": ".py",
   "mimetype": "text/x-python",
   "name": "python",
   "nbconvert_exporter": "python",
   "pygments_lexer": "ipython3",
   "version": "3.12.11"
  }
 },
 "nbformat": 4,
 "nbformat_minor": 5
}
