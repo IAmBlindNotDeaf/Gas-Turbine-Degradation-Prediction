{
 "cells": [
  {
   "cell_type": "code",
   "execution_count": 1,
   "id": "4b81021c",
   "metadata": {},
   "outputs": [],
   "source": [
    "# Importieren der benötigten Bibliotheken\n",
    "\n",
    "# Datenmanipulation\n",
    "import pandas as pd\n",
    "\n",
    "# Machine Learning\n",
    "from sklearn.model_selection import train_test_split"
   ]
  },
  {
   "cell_type": "markdown",
   "id": "9fa25625",
   "metadata": {},
   "source": [
    "# Split"
   ]
  },
  {
   "cell_type": "markdown",
   "id": "18fd733c",
   "metadata": {},
   "source": [
    "**Train-Test-Split**"
   ]
  },
  {
   "cell_type": "code",
   "execution_count": 2,
   "id": "0770f2a2",
   "metadata": {},
   "outputs": [
    {
     "data": {
      "text/plain": [
       "Index(['Ship_speed_(v)', 'Gas_Turbine_(GT)_shaft_torque_(GTT)_[kN_m]',\n",
       "       'GT_rate_of_revolutions_(GTn)_[rpm]',\n",
       "       'Gas_Generator_rate_of_revolutions_(GGn)_[rpm]',\n",
       "       'Starboard_Propeller_Torque_(Ts)_[kN]',\n",
       "       'Port_Propeller_Torque_(Tp)_[kN]',\n",
       "       'Hight_Pressure_(HP)_Turbine_exit_temperature_(T48)_[C]',\n",
       "       'GT_Compressor_outlet_air_temperature_(T2)_[C]',\n",
       "       'HP_Turbine_exit_pressure_(P48)_[bar]',\n",
       "       'GT_Compressor_outlet_air_pressure_(P2)_[bar]',\n",
       "       'GT_exhaust_gas_pressure_(Pexh)_[bar]',\n",
       "       'Turbine_Injecton_Control_(TIC)_[%]', 'Fuel_flow_(mf)_[kg/s]',\n",
       "       'GT_Compressor_decay_state_coefficient',\n",
       "       'GT_Turbine_decay_state_coefficient'],\n",
       "      dtype='object')"
      ]
     },
     "execution_count": 2,
     "metadata": {},
     "output_type": "execute_result"
    }
   ],
   "source": [
    "# Einlesen der bereinigten Daten\n",
    "df = pd.read_csv(\"../data/processed/cleaned_data.csv\")\n",
    "\n",
    "df.columns"
   ]
  },
  {
   "cell_type": "code",
   "execution_count": 3,
   "id": "ad05d57c",
   "metadata": {},
   "outputs": [],
   "source": [
    "# Einlesen der bereinigten Daten\n",
    "df = pd.read_csv(\"../data/processed/cleaned_data.csv\")\n",
    "\n",
    "# Aufteilung in Traings- und Testdaten\n",
    "features = df[df.columns[:-2].tolist()]\n",
    "targets = df[df.columns[-2:].tolist()]\n",
    "\n",
    "# Durchführung des Train-Test-Splits\n",
    "features_train, features_test, target_train, target_test = train_test_split(features, \n",
    "                                                                            targets, \n",
    "                                                                            random_state=42,\n",
    "                                                                            test_size=0.2,\n",
    "                                                                            stratify=targets)"
   ]
  },
  {
   "cell_type": "markdown",
   "id": "3ba0f675",
   "metadata": {},
   "source": [
    "# Data Preparation"
   ]
  },
  {
   "cell_type": "markdown",
   "id": "a1c45798",
   "metadata": {},
   "source": [
    "**Datatype Transformation**\n"
   ]
  },
  {
   "cell_type": "code",
   "execution_count": 4,
   "id": "a44af23b",
   "metadata": {},
   "outputs": [
    {
     "name": "stdout",
     "output_type": "stream",
     "text": [
      "<class 'pandas.core.frame.DataFrame'>\n",
      "RangeIndex: 11934 entries, 0 to 11933\n",
      "Data columns (total 15 columns):\n",
      " #   Column                                                  Non-Null Count  Dtype  \n",
      "---  ------                                                  --------------  -----  \n",
      " 0   Ship_speed_(v)                                          11934 non-null  int64  \n",
      " 1   Gas_Turbine_(GT)_shaft_torque_(GTT)_[kN_m]              11934 non-null  float64\n",
      " 2   GT_rate_of_revolutions_(GTn)_[rpm]                      11934 non-null  float64\n",
      " 3   Gas_Generator_rate_of_revolutions_(GGn)_[rpm]           11934 non-null  float64\n",
      " 4   Starboard_Propeller_Torque_(Ts)_[kN]                    11934 non-null  float64\n",
      " 5   Port_Propeller_Torque_(Tp)_[kN]                         11934 non-null  float64\n",
      " 6   Hight_Pressure_(HP)_Turbine_exit_temperature_(T48)_[C]  11934 non-null  float64\n",
      " 7   GT_Compressor_outlet_air_temperature_(T2)_[C]           11934 non-null  float64\n",
      " 8   HP_Turbine_exit_pressure_(P48)_[bar]                    11934 non-null  float64\n",
      " 9   GT_Compressor_outlet_air_pressure_(P2)_[bar]            11934 non-null  float64\n",
      " 10  GT_exhaust_gas_pressure_(Pexh)_[bar]                    11934 non-null  float64\n",
      " 11  Turbine_Injecton_Control_(TIC)_[%]                      11934 non-null  float64\n",
      " 12  Fuel_flow_(mf)_[kg/s]                                   11934 non-null  float64\n",
      " 13  GT_Compressor_decay_state_coefficient                   11934 non-null  float64\n",
      " 14  GT_Turbine_decay_state_coefficient                      11934 non-null  float64\n",
      "dtypes: float64(14), int64(1)\n",
      "memory usage: 1.4 MB\n"
     ]
    }
   ],
   "source": [
    "df.info()"
   ]
  },
  {
   "cell_type": "markdown",
   "id": "29f66187",
   "metadata": {},
   "source": [
    "**Data Imputation**\n"
   ]
  },
  {
   "cell_type": "code",
   "execution_count": 5,
   "id": "5472d717",
   "metadata": {},
   "outputs": [
    {
     "data": {
      "text/plain": [
       "Ship_speed_(v)                                            0\n",
       "Gas_Turbine_(GT)_shaft_torque_(GTT)_[kN_m]                0\n",
       "GT_rate_of_revolutions_(GTn)_[rpm]                        0\n",
       "Gas_Generator_rate_of_revolutions_(GGn)_[rpm]             0\n",
       "Starboard_Propeller_Torque_(Ts)_[kN]                      0\n",
       "Port_Propeller_Torque_(Tp)_[kN]                           0\n",
       "Hight_Pressure_(HP)_Turbine_exit_temperature_(T48)_[C]    0\n",
       "GT_Compressor_outlet_air_temperature_(T2)_[C]             0\n",
       "HP_Turbine_exit_pressure_(P48)_[bar]                      0\n",
       "GT_Compressor_outlet_air_pressure_(P2)_[bar]              0\n",
       "GT_exhaust_gas_pressure_(Pexh)_[bar]                      0\n",
       "Turbine_Injecton_Control_(TIC)_[%]                        0\n",
       "Fuel_flow_(mf)_[kg/s]                                     0\n",
       "GT_Compressor_decay_state_coefficient                     0\n",
       "GT_Turbine_decay_state_coefficient                        0\n",
       "dtype: int64"
      ]
     },
     "execution_count": 5,
     "metadata": {},
     "output_type": "execute_result"
    }
   ],
   "source": [
    "df.isnull().sum()"
   ]
  },
  {
   "cell_type": "markdown",
   "id": "677044a1",
   "metadata": {},
   "source": [
    "**Deal with Outliers**"
   ]
  },
  {
   "cell_type": "code",
   "execution_count": 6,
   "id": "04839a82",
   "metadata": {},
   "outputs": [
    {
     "data": {
      "text/plain": [
       "(11742, 15)"
      ]
     },
     "execution_count": 6,
     "metadata": {},
     "output_type": "execute_result"
    }
   ],
   "source": [
    "# Entferne Zeilen die Außreiter enthalten basierend auf IQR-Methode\n",
    "Q1 = df.quantile(0.25)\n",
    "Q3 = df.quantile(0.75)\n",
    "IQR = Q3 - Q1\n",
    "df = df[~((df < (Q1 - 1.5 * IQR)) |(df > (Q3 + 1.5 * IQR))).any(axis=1)]\n",
    "df.shape"
   ]
  },
  {
   "cell_type": "code",
   "execution_count": 7,
   "id": "2cb40e8b",
   "metadata": {},
   "outputs": [],
   "source": [
    "# Speichern der Trainings- und Testdaten\n",
    "features_train.to_csv(\"../data/processed/features_train.csv\", index=False)\n",
    "features_test.to_csv(\"../data/processed/features_test.csv\", index=False)\n",
    "target_train.to_csv(\"../data/processed/target_train.csv\", index=False)\n",
    "target_test.to_csv(\"../data/processed/target_test.csv\", index=False)"
   ]
  }
 ],
 "metadata": {
  "kernelspec": {
   "display_name": ".venv",
   "language": "python",
   "name": "python3"
  },
  "language_info": {
   "codemirror_mode": {
    "name": "ipython",
    "version": 3
   },
   "file_extension": ".py",
   "mimetype": "text/x-python",
   "name": "python",
   "nbconvert_exporter": "python",
   "pygments_lexer": "ipython3",
   "version": "3.12.11"
  }
 },
 "nbformat": 4,
 "nbformat_minor": 5
}
