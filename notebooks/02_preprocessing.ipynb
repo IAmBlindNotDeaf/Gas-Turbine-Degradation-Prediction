{
 "cells": [
  {
   "cell_type": "code",
   "execution_count": null,
   "id": "4b81021c",
   "metadata": {},
   "outputs": [],
   "source": [
    "# Importieren der benötigten Bibliotheken\n",
    "\n",
    "# Datenmanipulation\n",
    "import pandas as pd\n",
    "\n",
    "# Machine Learning\n",
    "from sklearn.model_selection import train_test_split"
   ]
  },
  {
   "cell_type": "markdown",
   "id": "9fa25625",
   "metadata": {},
   "source": [
    "# Split\n"
   ]
  },
  {
   "cell_type": "markdown",
   "id": "18fd733c",
   "metadata": {},
   "source": [
    "**Train-Test-Split**\n"
   ]
  },
  {
   "cell_type": "code",
   "execution_count": null,
   "id": "0770f2a2",
   "metadata": {},
   "outputs": [],
   "source": [
    "# Einlesen der bereinigten Daten\n",
    "destination_path = \"../data/processed\"\n",
    "df = pd.read_csv(f\"{destination_path}/cleaned_data.csv\")"
   ]
  },
  {
   "cell_type": "code",
   "execution_count": null,
   "id": "ad05d57c",
   "metadata": {},
   "outputs": [],
   "source": [
    "# Aufteilung in Traings- und Testdaten\n",
    "target_cols = [\"GT_Compressor_decay_state_coefficient\", \"GT_Turbine_decay_state_coefficient\"]\n",
    "features = df.drop(columns=target_cols)\n",
    "targets = df[target_cols]\n",
    "\n",
    "# Durchführung des Train-Test-Splits\n",
    "features_train, features_test, target_train, target_test = train_test_split(features, \n",
    "                                                                            targets, \n",
    "                                                                            random_state=42,\n",
    "                                                                            test_size=0.3)"
   ]
  },
  {
   "cell_type": "markdown",
   "id": "3ba0f675",
   "metadata": {},
   "source": [
    "# Data Preparation\n"
   ]
  },
  {
   "cell_type": "markdown",
   "id": "a1c45798",
   "metadata": {},
   "source": [
    "**Datatype Transformation**\n"
   ]
  },
  {
   "cell_type": "code",
   "execution_count": null,
   "id": "a44af23b",
   "metadata": {},
   "outputs": [],
   "source": [
    "# Keine Transformation nötig, alle Daten sind numerisch.\n",
    "df.info()"
   ]
  },
  {
   "cell_type": "markdown",
   "id": "29f66187",
   "metadata": {},
   "source": [
    "**Data Imputation**\n"
   ]
  },
  {
   "cell_type": "code",
   "execution_count": null,
   "id": "5472d717",
   "metadata": {},
   "outputs": [],
   "source": [
    "# Keine Imputation nötig, da keine fehlenden Werte vorhanden sind.\n",
    "df.isnull().sum()"
   ]
  },
  {
   "cell_type": "markdown",
   "id": "677044a1",
   "metadata": {},
   "source": [
    "**Deal with Outliers**\n"
   ]
  },
  {
   "cell_type": "code",
   "execution_count": null,
   "id": "04839a82",
   "metadata": {},
   "outputs": [],
   "source": [
    "# Ausreißerbehandlung mit der IQR-Methode (Trainingsdaten)\n",
    "Q1 = features_train.quantile(0.25)\n",
    "Q3 = features_train.quantile(0.75)\n",
    "IQR = Q3 - Q1\n",
    "lower_bound = Q1 - 1.5 * IQR\n",
    "upper_bound = Q3 + 1.5 * IQR\n",
    "\n",
    "# Filterung auf die Trainingsdaten an\n",
    "train_mask = ~((features_train < lower_bound) | (features_train > upper_bound)).any(axis=1)\n",
    "features_train = features_train[train_mask]\n",
    "target_train = target_train[train_mask]"
   ]
  },
  {
   "cell_type": "code",
   "execution_count": null,
   "id": "2cb40e8b",
   "metadata": {},
   "outputs": [],
   "source": [
    "# Speichern der Trainings- und Testdaten\n",
    "features_train.to_csv(f\"{destination_path}/features_train.csv\", index=False)\n",
    "features_test.to_csv(f\"{destination_path}/features_test.csv\", index=False)\n",
    "target_train.to_csv(f\"{destination_path}/target_train.csv\", index=False)\n",
    "target_test.to_csv(f\"{destination_path}/target_test.csv\", index=False)"
   ]
  }
 ],
 "metadata": {
  "kernelspec": {
   "display_name": ".venv",
   "language": "python",
   "name": "python3"
  },
  "language_info": {
   "codemirror_mode": {
    "name": "ipython",
    "version": 3
   },
   "file_extension": ".py",
   "mimetype": "text/x-python",
   "name": "python",
   "nbconvert_exporter": "python",
   "pygments_lexer": "ipython3",
   "version": "3.12.11"
  }
 },
 "nbformat": 4,
 "nbformat_minor": 5
}
