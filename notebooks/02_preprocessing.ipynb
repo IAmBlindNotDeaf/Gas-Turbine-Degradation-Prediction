{
 "cells": [
  {
   "cell_type": "code",
   "execution_count": 1,
   "id": "4b81021c",
   "metadata": {},
   "outputs": [],
   "source": [
    "# Importieren der benötigten Bibliotheken\n",
    "\n",
    "# Datenmanipulation\n",
    "import pandas as pd\n",
    "\n",
    "# Machine Learning\n",
    "from sklearn.model_selection import train_test_split"
   ]
  },
  {
   "cell_type": "markdown",
   "id": "9fa25625",
   "metadata": {},
   "source": [
    "# Split\n"
   ]
  },
  {
   "cell_type": "markdown",
   "id": "18fd733c",
   "metadata": {},
   "source": [
    "**Train-Test-Split**\n"
   ]
  },
  {
   "cell_type": "code",
   "execution_count": 2,
   "id": "0770f2a2",
   "metadata": {},
   "outputs": [],
   "source": [
    "# Einlesen der bereinigten Daten\n",
    "destination_path = \"../data/processed\"\n",
    "df = pd.read_csv(destination_path + \"/cleaned_data.csv\")"
   ]
  },
  {
   "cell_type": "code",
   "execution_count": 3,
   "id": "ad05d57c",
   "metadata": {},
   "outputs": [],
   "source": [
    "# Aufteilung in Traings- und Testdaten\n",
    "target_cols = ['gt_compressor_decay_state_coefficient', 'gt_turbine_decay_state_coefficient']\n",
    "features = df.drop(columns=target_cols)\n",
    "targets = df[target_cols]\n",
    "\n",
    "# Durchführung des Train-Test-Splits\n",
    "features_train, features_test, target_train, target_test = train_test_split(features, \n",
    "                                                                            targets, \n",
    "                                                                            random_state=42,\n",
    "                                                                            test_size=0.3)"
   ]
  },
  {
   "cell_type": "markdown",
   "id": "3ba0f675",
   "metadata": {},
   "source": [
    "# Data Preparation\n"
   ]
  },
  {
   "cell_type": "markdown",
   "id": "a1c45798",
   "metadata": {},
   "source": [
    "**Datatype Transformation**\n"
   ]
  },
  {
   "cell_type": "code",
   "execution_count": 4,
   "id": "a44af23b",
   "metadata": {},
   "outputs": [
    {
     "name": "stdout",
     "output_type": "stream",
     "text": [
      "<class 'pandas.core.frame.DataFrame'>\n",
      "RangeIndex: 11934 entries, 0 to 11933\n",
      "Data columns (total 16 columns):\n",
      " #   Column                                            Non-Null Count  Dtype  \n",
      "---  ------                                            --------------  -----  \n",
      " 0   lever_position                                    11934 non-null  float64\n",
      " 1   ship_speed_v                                      11934 non-null  int64  \n",
      " 2   gas_turbine_gt_shaft_torque_gtt_kn_m              11934 non-null  float64\n",
      " 3   gt_rate_of_revolutions_gtn_rpm                    11934 non-null  float64\n",
      " 4   gas_generator_rate_of_revolutions_ggn_rpm         11934 non-null  float64\n",
      " 5   starboard_propeller_torque_ts_kn                  11934 non-null  float64\n",
      " 6   port_propeller_torque_tp_kn                       11934 non-null  float64\n",
      " 7   hight_pressure_hp_turbine_exit_temperature_t48_c  11934 non-null  float64\n",
      " 8   gt_compressor_outlet_air_temperature_t2_c         11934 non-null  float64\n",
      " 9   hp_turbine_exit_pressure_p48_bar                  11934 non-null  float64\n",
      " 10  gt_compressor_outlet_air_pressure_p2_bar          11934 non-null  float64\n",
      " 11  gt_exhaust_gas_pressure_pexh_bar                  11934 non-null  float64\n",
      " 12  turbine_injecton_control_tic                      11934 non-null  float64\n",
      " 13  fuel_flow_mf_kgs                                  11934 non-null  float64\n",
      " 14  gt_compressor_decay_state_coefficient             11934 non-null  float64\n",
      " 15  gt_turbine_decay_state_coefficient                11934 non-null  float64\n",
      "dtypes: float64(15), int64(1)\n",
      "memory usage: 1.5 MB\n"
     ]
    }
   ],
   "source": [
    "# Keine Transformation nötig, alle Daten sind numerisch.\n",
    "df.info()"
   ]
  },
  {
   "cell_type": "markdown",
   "id": "29f66187",
   "metadata": {},
   "source": [
    "**Data Imputation**\n"
   ]
  },
  {
   "cell_type": "code",
   "execution_count": 5,
   "id": "5472d717",
   "metadata": {},
   "outputs": [
    {
     "data": {
      "text/plain": [
       "lever_position                                      0\n",
       "ship_speed_v                                        0\n",
       "gas_turbine_gt_shaft_torque_gtt_kn_m                0\n",
       "gt_rate_of_revolutions_gtn_rpm                      0\n",
       "gas_generator_rate_of_revolutions_ggn_rpm           0\n",
       "starboard_propeller_torque_ts_kn                    0\n",
       "port_propeller_torque_tp_kn                         0\n",
       "hight_pressure_hp_turbine_exit_temperature_t48_c    0\n",
       "gt_compressor_outlet_air_temperature_t2_c           0\n",
       "hp_turbine_exit_pressure_p48_bar                    0\n",
       "gt_compressor_outlet_air_pressure_p2_bar            0\n",
       "gt_exhaust_gas_pressure_pexh_bar                    0\n",
       "turbine_injecton_control_tic                        0\n",
       "fuel_flow_mf_kgs                                    0\n",
       "gt_compressor_decay_state_coefficient               0\n",
       "gt_turbine_decay_state_coefficient                  0\n",
       "dtype: int64"
      ]
     },
     "execution_count": 5,
     "metadata": {},
     "output_type": "execute_result"
    }
   ],
   "source": [
    "# Keine Imputation nötig, da keine fehlenden Werte vorhanden sind.\n",
    "df.isnull().sum()"
   ]
  },
  {
   "cell_type": "markdown",
   "id": "677044a1",
   "metadata": {},
   "source": [
    "**Deal with Outliers**\n"
   ]
  },
  {
   "cell_type": "code",
   "execution_count": 6,
   "id": "04839a82",
   "metadata": {},
   "outputs": [],
   "source": [
    "# Ausreißerbehandlung mit der IQR-Methode (Trainingsdaten)\n",
    "Q1 = features_train.quantile(0.25)\n",
    "Q3 = features_train.quantile(0.75)\n",
    "IQR = Q3 - Q1\n",
    "lower_bound = Q1 - 1.5 * IQR\n",
    "upper_bound = Q3 + 1.5 * IQR\n",
    "\n",
    "# Filterung auf die Trainingsdaten an\n",
    "train_mask = ~((features_train < lower_bound) | (features_train > upper_bound)).any(axis=1)\n",
    "features_train = features_train[train_mask]\n",
    "target_train = target_train[train_mask]\n",
    "\n",
    "# Filterung auf die Testdaten an\n",
    "test_mask = ~((features_test < lower_bound) | (features_test > upper_bound)).any(axis=1)\n",
    "features_test = features_test[test_mask]\n",
    "target_test = target_test[test_mask]"
   ]
  },
  {
   "cell_type": "code",
   "execution_count": 7,
   "id": "2cb40e8b",
   "metadata": {},
   "outputs": [],
   "source": [
    "# Speichern der Trainings- und Testdaten\n",
    "features_train.to_csv(destination_path + \"/features_train.csv\", index=False)\n",
    "features_test.to_csv(destination_path + \"/features_test.csv\", index=False)\n",
    "target_train.to_csv(destination_path + \"/target_train.csv\", index=False)\n",
    "target_test.to_csv(destination_path + \"/target_test.csv\", index=False)"
   ]
  }
 ],
 "metadata": {
  "kernelspec": {
   "display_name": ".venv",
   "language": "python",
   "name": "python3"
  },
  "language_info": {
   "codemirror_mode": {
    "name": "ipython",
    "version": 3
   },
   "file_extension": ".py",
   "mimetype": "text/x-python",
   "name": "python",
   "nbconvert_exporter": "python",
   "pygments_lexer": "ipython3",
   "version": "3.12.11"
  }
 },
 "nbformat": 4,
 "nbformat_minor": 5
}
