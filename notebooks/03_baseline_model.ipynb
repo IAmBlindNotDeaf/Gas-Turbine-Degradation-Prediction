{
 "cells": [
  {
   "cell_type": "code",
   "execution_count": null,
   "id": "c11be829",
   "metadata": {},
   "outputs": [],
   "source": [
    "# Importieren der benötigten Bibliotheken\n",
    "\n",
    "# Datenmanipulation\n",
    "import pandas as pd\n",
    "\n",
    "# Machine Learning\n",
    "from sklearn.linear_model import LinearRegression\n",
    "from sklearn.ensemble import RandomForestRegressor\n",
    "from sklearn.tree import DecisionTreeRegressor\n",
    "from sklearn.preprocessing import StandardScaler\n",
    "from sklearn.pipeline import Pipeline\n",
    "from sklearn.metrics import mean_squared_error, mean_absolute_error, r2_score\n",
    "from sklearn.base import clone\n",
    "\n",
    "# Warnings unterdrücken\n",
    "import warnings\n",
    "from sklearn.exceptions import DataConversionWarning\n",
    "warnings.filterwarnings(action=\"ignore\", category=DataConversionWarning)\n",
    "warnings.filterwarnings(action=\"ignore\", category=FutureWarning)"
   ]
  },
  {
   "cell_type": "markdown",
   "id": "9fa25625",
   "metadata": {},
   "source": [
    "# Baseline Modellierung\n"
   ]
  },
  {
   "cell_type": "code",
   "execution_count": 2,
   "id": "555d93b4",
   "metadata": {},
   "outputs": [],
   "source": [
    "# Einlesen der Trainings- und Testdaten\n",
    "features_train = pd.read_csv(\"../data/processed/features_train.csv\")\n",
    "features_test = pd.read_csv(\"../data/processed/features_test.csv\")\n",
    "target_train = pd.read_csv(\"../data/processed/target_train.csv\")\n",
    "target_test = pd.read_csv(\"../data/processed/target_test.csv\")\n",
    "\n",
    "# Zielvariable in einem dict organisieren\n",
    "targets = {\n",
    "    \"compressor\": {\n",
    "        \"train\": target_train.iloc[:, 0],\n",
    "        \"test\": target_test.iloc[:, 0]\n",
    "    },\n",
    "    \"turbine\": {\n",
    "        \"train\": target_train.iloc[:, 1],\n",
    "        \"test\": target_test.iloc[:, 1]\n",
    "    }\n",
    "}"
   ]
  },
  {
   "cell_type": "code",
   "execution_count": 3,
   "id": "2e90b802",
   "metadata": {},
   "outputs": [],
   "source": [
    "# Piplines für verschiedene Modelle\n",
    "pipeline_lr = Pipeline([('scaler', StandardScaler()), ('model', LinearRegression())])\n",
    "pipeline_rf = Pipeline([(\"model\", RandomForestRegressor(random_state=42))])\n",
    "pipeline_dt = Pipeline([(\"model\", DecisionTreeRegressor(random_state=42))])\n",
    "\n",
    "# Modelle in einem Dictionary organisieren\n",
    "models = {\n",
    "    \"Linear Regression\": pipeline_lr,\n",
    "    \"Random Forest\": pipeline_rf,\n",
    "    \"Decision Tree\": pipeline_dt\n",
    "}"
   ]
  },
  {
   "cell_type": "code",
   "execution_count": 4,
   "id": "ab00d14c",
   "metadata": {},
   "outputs": [
    {
     "name": "stdout",
     "output_type": "stream",
     "text": [
      "--- Baseline Modellergebnisse ---\n",
      "       Target              Model      R2     MAE  MSE\n",
      "0  compressor  Linear Regression  0.8383  0.0046  0.0\n",
      "1  compressor      Random Forest  0.9956  0.0006  0.0\n",
      "2  compressor      Decision Tree  0.9886  0.0010  0.0\n",
      "3     turbine  Linear Regression  0.9072  0.0017  0.0\n",
      "4     turbine      Random Forest  0.9910  0.0004  0.0\n",
      "5     turbine      Decision Tree  0.9800  0.0005  0.0\n"
     ]
    }
   ],
   "source": [
    "# Evaluierung der Baseline-Modelle mit allen Features\n",
    "all_results = []\n",
    "for target_name, target_data in targets.items():\n",
    "    target_train_data = target_data[\"train\"]\n",
    "    target_test_data = target_data[\"test\"]\n",
    "    \n",
    "    for model_name, model_pipeline in models.items():\n",
    "        current_model = clone(model_pipeline)\n",
    "        current_model.fit(features_train, target_train_data)\n",
    "        target_pred = current_model.predict(features_test)\n",
    "        \n",
    "        r2 = r2_score(target_test_data, target_pred)\n",
    "        mae = mean_absolute_error(target_test_data, target_pred)\n",
    "        mse = mean_squared_error(target_test_data, target_pred)\n",
    "        \n",
    "        results = {\"Target\": target_name, \"Model\": model_name, \"R2\": r2, \"MAE\": mae, \"MSE\": mse}\n",
    "        all_results.append(results)\n",
    "\n",
    "results_df = pd.DataFrame(all_results)\n",
    "results_df.to_csv(\"../data/results/baseline_results.csv\", index=False)\n",
    "\n",
    "print(\"--- Baseline Modellergebnisse ---\")\n",
    "print(results_df.round(4))"
   ]
  }
 ],
 "metadata": {
  "kernelspec": {
   "display_name": ".venv",
   "language": "python",
   "name": "python3"
  },
  "language_info": {
   "codemirror_mode": {
    "name": "ipython",
    "version": 3
   },
   "file_extension": ".py",
   "mimetype": "text/x-python",
   "name": "python",
   "nbconvert_exporter": "python",
   "pygments_lexer": "ipython3",
   "version": "3.12.11"
  }
 },
 "nbformat": 4,
 "nbformat_minor": 5
}
